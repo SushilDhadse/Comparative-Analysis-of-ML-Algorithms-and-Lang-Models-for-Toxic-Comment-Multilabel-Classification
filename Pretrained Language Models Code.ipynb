{
 "cells": [
  {
   "cell_type": "code",
   "execution_count": 10,
   "id": "7a3c1472-25f7-47f6-9bff-39c2c57431db",
   "metadata": {
    "execution": {
     "iopub.execute_input": "2023-08-15T22:55:22.226678Z",
     "iopub.status.busy": "2023-08-15T22:55:22.225869Z",
     "iopub.status.idle": "2023-08-15T22:55:22.230488Z",
     "shell.execute_reply": "2023-08-15T22:55:22.229643Z",
     "shell.execute_reply.started": "2023-08-15T22:55:22.226647Z"
    }
   },
   "outputs": [],
   "source": [
    "import io\n",
    "import os\n",
    "import pandas as pd\n",
    "import seaborn as sns\n",
    "import matplotlib.pyplot as plt\n",
    "import numpy as np\n",
    "\n",
    "pd.set_option('display.max_columns', None)\n",
    "pd.set_option('display.max_rows', None)\n",
    "\n",
    "import warnings\n",
    "warnings.filterwarnings(\"ignore\")\n"
   ]
  },
  {
   "cell_type": "code",
   "execution_count": 11,
   "id": "23c8e75c-956f-454c-b05e-a687211c1dc1",
   "metadata": {
    "execution": {
     "iopub.execute_input": "2023-08-15T22:55:22.275323Z",
     "iopub.status.busy": "2023-08-15T22:55:22.274692Z",
     "iopub.status.idle": "2023-08-15T22:55:22.921074Z",
     "shell.execute_reply": "2023-08-15T22:55:22.920435Z",
     "shell.execute_reply.started": "2023-08-15T22:55:22.275296Z"
    }
   },
   "outputs": [
    {
     "data": {
      "text/html": [
       "<div>\n",
       "<style scoped>\n",
       "    .dataframe tbody tr th:only-of-type {\n",
       "        vertical-align: middle;\n",
       "    }\n",
       "\n",
       "    .dataframe tbody tr th {\n",
       "        vertical-align: top;\n",
       "    }\n",
       "\n",
       "    .dataframe thead th {\n",
       "        text-align: right;\n",
       "    }\n",
       "</style>\n",
       "<table border=\"1\" class=\"dataframe\">\n",
       "  <thead>\n",
       "    <tr style=\"text-align: right;\">\n",
       "      <th></th>\n",
       "      <th>id</th>\n",
       "      <th>comment_text</th>\n",
       "      <th>toxic</th>\n",
       "      <th>severe_toxic</th>\n",
       "      <th>obscene</th>\n",
       "      <th>threat</th>\n",
       "      <th>insult</th>\n",
       "      <th>identity_hate</th>\n",
       "    </tr>\n",
       "  </thead>\n",
       "  <tbody>\n",
       "    <tr>\n",
       "      <th>0</th>\n",
       "      <td>0000997932d777bf</td>\n",
       "      <td>Explanation\\nWhy the edits made under my usern...</td>\n",
       "      <td>0</td>\n",
       "      <td>0</td>\n",
       "      <td>0</td>\n",
       "      <td>0</td>\n",
       "      <td>0</td>\n",
       "      <td>0</td>\n",
       "    </tr>\n",
       "    <tr>\n",
       "      <th>1</th>\n",
       "      <td>000103f0d9cfb60f</td>\n",
       "      <td>D'aww! He matches this background colour I'm s...</td>\n",
       "      <td>0</td>\n",
       "      <td>0</td>\n",
       "      <td>0</td>\n",
       "      <td>0</td>\n",
       "      <td>0</td>\n",
       "      <td>0</td>\n",
       "    </tr>\n",
       "    <tr>\n",
       "      <th>2</th>\n",
       "      <td>000113f07ec002fd</td>\n",
       "      <td>Hey man, I'm really not trying to edit war. It...</td>\n",
       "      <td>0</td>\n",
       "      <td>0</td>\n",
       "      <td>0</td>\n",
       "      <td>0</td>\n",
       "      <td>0</td>\n",
       "      <td>0</td>\n",
       "    </tr>\n",
       "    <tr>\n",
       "      <th>3</th>\n",
       "      <td>0001b41b1c6bb37e</td>\n",
       "      <td>\"\\nMore\\nI can't make any real suggestions on ...</td>\n",
       "      <td>0</td>\n",
       "      <td>0</td>\n",
       "      <td>0</td>\n",
       "      <td>0</td>\n",
       "      <td>0</td>\n",
       "      <td>0</td>\n",
       "    </tr>\n",
       "    <tr>\n",
       "      <th>4</th>\n",
       "      <td>0001d958c54c6e35</td>\n",
       "      <td>You, sir, are my hero. Any chance you remember...</td>\n",
       "      <td>0</td>\n",
       "      <td>0</td>\n",
       "      <td>0</td>\n",
       "      <td>0</td>\n",
       "      <td>0</td>\n",
       "      <td>0</td>\n",
       "    </tr>\n",
       "  </tbody>\n",
       "</table>\n",
       "</div>"
      ],
      "text/plain": [
       "                 id                                       comment_text  toxic  \\\n",
       "0  0000997932d777bf  Explanation\\nWhy the edits made under my usern...      0   \n",
       "1  000103f0d9cfb60f  D'aww! He matches this background colour I'm s...      0   \n",
       "2  000113f07ec002fd  Hey man, I'm really not trying to edit war. It...      0   \n",
       "3  0001b41b1c6bb37e  \"\\nMore\\nI can't make any real suggestions on ...      0   \n",
       "4  0001d958c54c6e35  You, sir, are my hero. Any chance you remember...      0   \n",
       "\n",
       "   severe_toxic  obscene  threat  insult  identity_hate  \n",
       "0             0        0       0       0              0  \n",
       "1             0        0       0       0              0  \n",
       "2             0        0       0       0              0  \n",
       "3             0        0       0       0              0  \n",
       "4             0        0       0       0              0  "
      ]
     },
     "execution_count": 11,
     "metadata": {},
     "output_type": "execute_result"
    }
   ],
   "source": [
    "train_df = pd.read_csv('train.csv')\n",
    "train_df.head()\n"
   ]
  },
  {
   "cell_type": "code",
   "execution_count": 12,
   "id": "56d8af65-a04b-408c-9401-2441e4bca694",
   "metadata": {
    "execution": {
     "iopub.execute_input": "2023-08-15T22:55:22.922252Z",
     "iopub.status.busy": "2023-08-15T22:55:22.922070Z",
     "iopub.status.idle": "2023-08-15T22:55:22.926280Z",
     "shell.execute_reply": "2023-08-15T22:55:22.925619Z",
     "shell.execute_reply.started": "2023-08-15T22:55:22.922252Z"
    }
   },
   "outputs": [
    {
     "name": "stdout",
     "output_type": "stream",
     "text": [
      "(159571, 8)\n",
      "Index(['id', 'comment_text', 'toxic', 'severe_toxic', 'obscene', 'threat',\n",
      "       'insult', 'identity_hate'],\n",
      "      dtype='object')\n"
     ]
    }
   ],
   "source": [
    "print(train_df.shape)\n",
    "print(train_df.columns)"
   ]
  },
  {
   "cell_type": "code",
   "execution_count": 13,
   "id": "55a7d426-1fb1-43dd-9366-165cfc17aa10",
   "metadata": {
    "execution": {
     "iopub.execute_input": "2023-08-15T22:55:23.199631Z",
     "iopub.status.busy": "2023-08-15T22:55:23.198840Z",
     "iopub.status.idle": "2023-08-15T22:55:27.344968Z",
     "shell.execute_reply": "2023-08-15T22:55:27.344315Z",
     "shell.execute_reply.started": "2023-08-15T22:55:23.199606Z"
    }
   },
   "outputs": [],
   "source": [
    "import re\n",
    "\n",
    "# Precompile regex patterns \n",
    "pattern2 = re.compile(r\"[^a-zA-Z0-9\\s]\")  \n",
    "pattern3 = re.compile(r\"\\d\")\n",
    "pattern4 = re.compile(r\"\\s+\")\n",
    "pattern5 = re.compile(r\"http\\S+|www\\S+|https\\S+\")\n",
    "pattern6 = re.compile(r\"\\n\")  \n",
    "\n",
    "def remove_pattern(input_txt):\n",
    "\n",
    "    # Remove patterns using compiled regex\n",
    "    input_txt = pattern2.sub('', input_txt)   # Remove special characters\n",
    "    input_txt = pattern3.sub('', input_txt)   # Remove numbers\n",
    "    input_txt = pattern4.sub(' ', input_txt).strip()   # Remove extra white spaces\n",
    "    input_txt = pattern5.sub('', input_txt)   # Remove URLs\n",
    "    input_txt = pattern6.sub('', input_txt)   # Remove newline characters\n",
    "\n",
    "    return input_txt\n",
    "\n",
    "train_df['comment_text'] = train_df['comment_text'].apply(remove_pattern)\n"
   ]
  },
  {
   "cell_type": "code",
   "execution_count": 14,
   "id": "d0e77226-c8db-4a45-ae44-2a5c2b0ae41e",
   "metadata": {
    "execution": {
     "iopub.execute_input": "2023-08-15T22:55:36.246380Z",
     "iopub.status.busy": "2023-08-15T22:55:36.245759Z",
     "iopub.status.idle": "2023-08-15T22:55:36.289995Z",
     "shell.execute_reply": "2023-08-15T22:55:36.289324Z",
     "shell.execute_reply.started": "2023-08-15T22:55:36.246358Z"
    }
   },
   "outputs": [
    {
     "name": "stdout",
     "output_type": "stream",
     "text": [
      "367.15825557275446\n"
     ]
    }
   ],
   "source": [
    "comment_lengths = np.array([len(comment) for comment in train_df['comment_text']])\n",
    "\n",
    "print(comment_lengths.mean())"
   ]
  },
  {
   "cell_type": "code",
   "execution_count": 15,
   "id": "a4e77423-4f9f-465a-b863-b9c2861b3f6e",
   "metadata": {
    "execution": {
     "iopub.execute_input": "2023-08-15T22:55:36.526414Z",
     "iopub.status.busy": "2023-08-15T22:55:36.525613Z",
     "iopub.status.idle": "2023-08-15T22:55:36.570291Z",
     "shell.execute_reply": "2023-08-15T22:55:36.569661Z",
     "shell.execute_reply.started": "2023-08-15T22:55:36.526391Z"
    }
   },
   "outputs": [
    {
     "data": {
      "text/plain": [
       "id               0\n",
       "comment_text     0\n",
       "toxic            0\n",
       "severe_toxic     0\n",
       "obscene          0\n",
       "threat           0\n",
       "insult           0\n",
       "identity_hate    0\n",
       "dtype: int64"
      ]
     },
     "execution_count": 15,
     "metadata": {},
     "output_type": "execute_result"
    }
   ],
   "source": [
    "train_df.isna().sum()"
   ]
  },
  {
   "cell_type": "code",
   "execution_count": 16,
   "id": "79d5a67a-321b-4c8c-b9ae-950265b50916",
   "metadata": {
    "execution": {
     "iopub.execute_input": "2023-08-15T22:55:37.548408Z",
     "iopub.status.busy": "2023-08-15T22:55:37.547889Z",
     "iopub.status.idle": "2023-08-15T22:55:37.734179Z",
     "shell.execute_reply": "2023-08-15T22:55:37.733546Z",
     "shell.execute_reply.started": "2023-08-15T22:55:37.548387Z"
    }
   },
   "outputs": [
    {
     "data": {
      "image/png": "[encoded data removed]",
      "text/plain": [
       "<Figure size 640x480 with 1 Axes>"
      ]
     },
     "metadata": {},
     "output_type": "display_data"
    }
   ],
   "source": [
    "LABEL_COLUMNS = train_df.columns.tolist()[2:]\n",
    "train_toxic = train_df[train_df[LABEL_COLUMNS].sum(axis=1) > 0]\n",
    "train_clean = train_df[train_df[LABEL_COLUMNS].sum(axis=1) == 0]\n",
    "pd.DataFrame(dict(\n",
    "  toxic=[len(train_toxic)],\n",
    "  clean=[len(train_clean)]\n",
    ")).plot(kind='barh');"
   ]
  },
  {
   "cell_type": "code",
   "execution_count": 17,
   "id": "14104a5e-8204-43b0-988e-c5f989791edb",
   "metadata": {
    "execution": {
     "iopub.execute_input": "2023-08-15T22:55:38.554250Z",
     "iopub.status.busy": "2023-08-15T22:55:38.553745Z",
     "iopub.status.idle": "2023-08-15T22:55:38.568312Z",
     "shell.execute_reply": "2023-08-15T22:55:38.567719Z",
     "shell.execute_reply.started": "2023-08-15T22:55:38.554232Z"
    }
   },
   "outputs": [
    {
     "data": {
      "text/plain": [
       "(31225, 8)"
      ]
     },
     "execution_count": 17,
     "metadata": {},
     "output_type": "execute_result"
    }
   ],
   "source": [
    "train_df = pd.concat([\n",
    "  train_toxic,\n",
    "  train_clean.sample(15_000)\n",
    "])\n",
    "train_df.shape"
   ]
  },
  {
   "cell_type": "code",
   "execution_count": 18,
   "id": "b8861286-a484-4f68-8446-487b0c3eefa4",
   "metadata": {
    "execution": {
     "iopub.execute_input": "2023-08-15T22:55:39.381677Z",
     "iopub.status.busy": "2023-08-15T22:55:39.381431Z",
     "iopub.status.idle": "2023-08-15T22:55:39.490356Z",
     "shell.execute_reply": "2023-08-15T22:55:39.489710Z",
     "shell.execute_reply.started": "2023-08-15T22:55:39.381660Z"
    }
   },
   "outputs": [
    {
     "data": {
      "image/png": "[encoded data removed]",
      "text/plain": [
       "<Figure size 640x480 with 1 Axes>"
      ]
     },
     "metadata": {},
     "output_type": "display_data"
    }
   ],
   "source": [
    "LABEL_COLUMNS = train_df.columns.tolist()[2:]\n",
    "train_toxic = train_df[train_df[LABEL_COLUMNS].sum(axis=1) > 0]\n",
    "train_clean = train_df[train_df[LABEL_COLUMNS].sum(axis=1) == 0]\n",
    "pd.DataFrame(dict(\n",
    "  toxic=[len(train_toxic)],\n",
    "  clean=[len(train_clean)]\n",
    ")).plot(kind='barh');"
   ]
  },
  {
   "cell_type": "code",
   "execution_count": 19,
   "id": "a0b1bc47-776e-4802-8c7e-59ec67785643",
   "metadata": {
    "execution": {
     "iopub.execute_input": "2023-08-15T22:55:40.157791Z",
     "iopub.status.busy": "2023-08-15T22:55:40.157520Z",
     "iopub.status.idle": "2023-08-15T22:55:40.172453Z",
     "shell.execute_reply": "2023-08-15T22:55:40.171717Z",
     "shell.execute_reply.started": "2023-08-15T22:55:40.157768Z"
    }
   },
   "outputs": [
    {
     "name": "stdout",
     "output_type": "stream",
     "text": [
      "326.93895916733385\n"
     ]
    }
   ],
   "source": [
    "comment_lengths = np.array([len(comment) for comment in train_df['comment_text']])\n",
    "\n",
    "print(comment_lengths.mean())"
   ]
  },
  {
   "cell_type": "code",
   "execution_count": 20,
   "id": "d74ab105-9141-4dbf-a8ba-593c7f8aa6cb",
   "metadata": {
    "execution": {
     "iopub.execute_input": "2023-08-15T22:55:41.397051Z",
     "iopub.status.busy": "2023-08-15T22:55:41.396502Z",
     "iopub.status.idle": "2023-08-15T22:55:41.404532Z",
     "shell.execute_reply": "2023-08-15T22:55:41.403854Z",
     "shell.execute_reply.started": "2023-08-15T22:55:41.397028Z"
    }
   },
   "outputs": [
    {
     "data": {
      "text/html": [
       "<div>\n",
       "<style scoped>\n",
       "    .dataframe tbody tr th:only-of-type {\n",
       "        vertical-align: middle;\n",
       "    }\n",
       "\n",
       "    .dataframe tbody tr th {\n",
       "        vertical-align: top;\n",
       "    }\n",
       "\n",
       "    .dataframe thead th {\n",
       "        text-align: right;\n",
       "    }\n",
       "</style>\n",
       "<table border=\"1\" class=\"dataframe\">\n",
       "  <thead>\n",
       "    <tr style=\"text-align: right;\">\n",
       "      <th></th>\n",
       "      <th>id</th>\n",
       "      <th>comment_text</th>\n",
       "      <th>toxic</th>\n",
       "      <th>severe_toxic</th>\n",
       "      <th>obscene</th>\n",
       "      <th>threat</th>\n",
       "      <th>insult</th>\n",
       "      <th>identity_hate</th>\n",
       "    </tr>\n",
       "  </thead>\n",
       "  <tbody>\n",
       "    <tr>\n",
       "      <th>6</th>\n",
       "      <td>0002bcb3da6cb337</td>\n",
       "      <td>COCKSUCKER BEFORE YOU PISS AROUND ON MY WORK</td>\n",
       "      <td>1</td>\n",
       "      <td>1</td>\n",
       "      <td>1</td>\n",
       "      <td>0</td>\n",
       "      <td>1</td>\n",
       "      <td>0</td>\n",
       "    </tr>\n",
       "    <tr>\n",
       "      <th>12</th>\n",
       "      <td>0005c987bdfc9d4b</td>\n",
       "      <td>Hey what is it talk What is it an exclusive gr...</td>\n",
       "      <td>1</td>\n",
       "      <td>0</td>\n",
       "      <td>0</td>\n",
       "      <td>0</td>\n",
       "      <td>0</td>\n",
       "      <td>0</td>\n",
       "    </tr>\n",
       "    <tr>\n",
       "      <th>16</th>\n",
       "      <td>0007e25b2121310b</td>\n",
       "      <td>Bye Dont look come or think of comming back To...</td>\n",
       "      <td>1</td>\n",
       "      <td>0</td>\n",
       "      <td>0</td>\n",
       "      <td>0</td>\n",
       "      <td>0</td>\n",
       "      <td>0</td>\n",
       "    </tr>\n",
       "    <tr>\n",
       "      <th>42</th>\n",
       "      <td>001810bf8c45bf5f</td>\n",
       "      <td>You are gay or antisemmitian Archangel WHite T...</td>\n",
       "      <td>1</td>\n",
       "      <td>0</td>\n",
       "      <td>1</td>\n",
       "      <td>0</td>\n",
       "      <td>1</td>\n",
       "      <td>1</td>\n",
       "    </tr>\n",
       "    <tr>\n",
       "      <th>43</th>\n",
       "      <td>00190820581d90ce</td>\n",
       "      <td>FUCK YOUR FILTHY MOTHER IN THE ASS DRY</td>\n",
       "      <td>1</td>\n",
       "      <td>0</td>\n",
       "      <td>1</td>\n",
       "      <td>0</td>\n",
       "      <td>1</td>\n",
       "      <td>0</td>\n",
       "    </tr>\n",
       "  </tbody>\n",
       "</table>\n",
       "</div>"
      ],
      "text/plain": [
       "                  id                                       comment_text  \\\n",
       "6   0002bcb3da6cb337       COCKSUCKER BEFORE YOU PISS AROUND ON MY WORK   \n",
       "12  0005c987bdfc9d4b  Hey what is it talk What is it an exclusive gr...   \n",
       "16  0007e25b2121310b  Bye Dont look come or think of comming back To...   \n",
       "42  001810bf8c45bf5f  You are gay or antisemmitian Archangel WHite T...   \n",
       "43  00190820581d90ce             FUCK YOUR FILTHY MOTHER IN THE ASS DRY   \n",
       "\n",
       "    toxic  severe_toxic  obscene  threat  insult  identity_hate  \n",
       "6       1             1        1       0       1              0  \n",
       "12      1             0        0       0       0              0  \n",
       "16      1             0        0       0       0              0  \n",
       "42      1             0        1       0       1              1  \n",
       "43      1             0        1       0       1              0  "
      ]
     },
     "execution_count": 20,
     "metadata": {},
     "output_type": "execute_result"
    }
   ],
   "source": [
    "train_df.head()"
   ]
  },
  {
   "cell_type": "code",
   "execution_count": 21,
   "id": "b3265b5e-c8b3-43a3-9af6-eb12670c51d8",
   "metadata": {
    "execution": {
     "iopub.execute_input": "2023-08-15T22:55:48.477912Z",
     "iopub.status.busy": "2023-08-15T22:55:48.477151Z",
     "iopub.status.idle": "2023-08-15T22:55:48.485018Z",
     "shell.execute_reply": "2023-08-15T22:55:48.484433Z",
     "shell.execute_reply.started": "2023-08-15T22:55:48.477888Z"
    }
   },
   "outputs": [
    {
     "data": {
      "text/plain": [
       "toxic            15294\n",
       "severe_toxic      1595\n",
       "obscene           8449\n",
       "threat             478\n",
       "insult            7877\n",
       "identity_hate     1405\n",
       "dtype: int64"
      ]
     },
     "execution_count": 21,
     "metadata": {},
     "output_type": "execute_result"
    }
   ],
   "source": [
    "train_df[['toxic', 'severe_toxic', 'obscene', 'threat', 'insult', 'identity_hate']].sum()"
   ]
  },
  {
   "cell_type": "code",
   "execution_count": 22,
   "id": "11a799aa-cd44-4019-a768-513108164b75",
   "metadata": {
    "execution": {
     "iopub.execute_input": "2023-08-15T22:55:49.629160Z",
     "iopub.status.busy": "2023-08-15T22:55:49.628562Z",
     "iopub.status.idle": "2023-08-15T22:56:11.615097Z",
     "shell.execute_reply": "2023-08-15T22:56:11.614283Z",
     "shell.execute_reply.started": "2023-08-15T22:55:49.629135Z"
    }
   },
   "outputs": [
    {
     "name": "stdout",
     "output_type": "stream",
     "text": [
      "Collecting ktrain\n",
      "  Downloading ktrain-0.37.6.tar.gz (25.3 MB)\n",
      "\u001b[2K     \u001b[90m━━━━━━━━━━━━━━━━━━━━━━━━━━━━━━━━━━━━━━━━\u001b[0m \u001b[32m25.3/25.3 MB\u001b[0m \u001b[31m36.8 MB/s\u001b[0m eta \u001b[36m0:00:00\u001b[0m00:01\u001b[0m00:01\u001b[0m\n",
      "\u001b[?25h  Preparing metadata (setup.py) ... \u001b[?25ldone\n",
      "\u001b[?25hRequirement already satisfied: scikit-learn in /usr/local/lib/python3.9/dist-packages (from ktrain) (1.1.2)\n",
      "Requirement already satisfied: matplotlib>=3.0.0 in /usr/local/lib/python3.9/dist-packages (from ktrain) (3.6.1)\n",
      "Requirement already satisfied: pandas>=1.0.1 in /usr/local/lib/python3.9/dist-packages (from ktrain) (1.5.0)\n",
      "Collecting fastprogress>=0.1.21\n",
      "  Downloading fastprogress-1.0.3-py3-none-any.whl (12 kB)\n",
      "Requirement already satisfied: requests in /usr/local/lib/python3.9/dist-packages (from ktrain) (2.28.2)\n",
      "Requirement already satisfied: joblib in /usr/local/lib/python3.9/dist-packages (from ktrain) (1.2.0)\n",
      "Requirement already satisfied: packaging in /usr/local/lib/python3.9/dist-packages (from ktrain) (23.0)\n",
      "Collecting langdetect\n",
      "  Downloading langdetect-1.0.9.tar.gz (981 kB)\n",
      "\u001b[2K     \u001b[90m━━━━━━━━━━━━━━━━━━━━━━━━━━━━━━━━━━━━━━\u001b[0m \u001b[32m981.5/981.5 kB\u001b[0m \u001b[31m55.1 MB/s\u001b[0m eta \u001b[36m0:00:00\u001b[0m\n",
      "\u001b[?25h  Preparing metadata (setup.py) ... \u001b[?25ldone\n",
      "\u001b[?25hCollecting jieba\n",
      "  Downloading jieba-0.42.1.tar.gz (19.2 MB)\n",
      "\u001b[2K     \u001b[90m━━━━━━━━━━━━━━━━━━━━━━━━━━━━━━━━━━━━━━━━\u001b[0m \u001b[32m19.2/19.2 MB\u001b[0m \u001b[31m65.3 MB/s\u001b[0m eta \u001b[36m0:00:00\u001b[0m00:01\u001b[0m00:01\u001b[0m\n",
      "\u001b[?25h  Preparing metadata (setup.py) ... \u001b[?25ldone\n",
      "\u001b[?25hCollecting cchardet\n",
      "  Downloading cchardet-2.1.7-cp39-cp39-manylinux2010_x86_64.whl (265 kB)\n",
      "\u001b[2K     \u001b[90m━━━━━━━━━━━━━━━━━━━━━━━━━━━━━━━━━━━━━━\u001b[0m \u001b[32m265.4/265.4 kB\u001b[0m \u001b[31m60.9 MB/s\u001b[0m eta \u001b[36m0:00:00\u001b[0m\n",
      "\u001b[?25hRequirement already satisfied: chardet in /usr/lib/python3/dist-packages (from ktrain) (3.0.4)\n",
      "Collecting syntok>1.3.3\n",
      "  Downloading syntok-1.4.4-py3-none-any.whl (24 kB)\n",
      "Collecting tika\n",
      "  Downloading tika-2.6.0.tar.gz (27 kB)\n",
      "  Preparing metadata (setup.py) ... \u001b[?25ldone\n",
      "\u001b[?25hRequirement already satisfied: transformers>=4.17.0 in /usr/local/lib/python3.9/dist-packages (from ktrain) (4.21.3)\n",
      "Requirement already satisfied: sentencepiece in /usr/local/lib/python3.9/dist-packages (from ktrain) (0.1.97)\n",
      "Collecting keras_bert>=0.86.0\n",
      "  Downloading keras-bert-0.89.0.tar.gz (25 kB)\n",
      "  Preparing metadata (setup.py) ... \u001b[?25ldone\n",
      "\u001b[?25hCollecting whoosh\n",
      "  Downloading Whoosh-2.7.4-py2.py3-none-any.whl (468 kB)\n",
      "\u001b[2K     \u001b[90m━━━━━━━━━━━━━━━━━━━━━━━━━━━━━━━━━━━━━━\u001b[0m \u001b[32m468.8/468.8 kB\u001b[0m \u001b[31m81.2 MB/s\u001b[0m eta \u001b[36m0:00:00\u001b[0m\n",
      "\u001b[?25hRequirement already satisfied: numpy in /usr/local/lib/python3.9/dist-packages (from keras_bert>=0.86.0->ktrain) (1.23.4)\n",
      "Collecting keras-transformer==0.40.0\n",
      "  Downloading keras-transformer-0.40.0.tar.gz (9.7 kB)\n",
      "  Preparing metadata (setup.py) ... \u001b[?25ldone\n",
      "\u001b[?25hCollecting keras-pos-embd==0.13.0\n",
      "  Downloading keras-pos-embd-0.13.0.tar.gz (5.6 kB)\n",
      "  Preparing metadata (setup.py) ... \u001b[?25ldone\n",
      "\u001b[?25hCollecting keras-multi-head==0.29.0\n",
      "  Downloading keras-multi-head-0.29.0.tar.gz (13 kB)\n",
      "  Preparing metadata (setup.py) ... \u001b[?25ldone\n",
      "\u001b[?25hCollecting keras-layer-normalization==0.16.0\n",
      "  Downloading keras-layer-normalization-0.16.0.tar.gz (3.9 kB)\n",
      "  Preparing metadata (setup.py) ... \u001b[?25ldone\n",
      "\u001b[?25hCollecting keras-position-wise-feed-forward==0.8.0\n",
      "  Downloading keras-position-wise-feed-forward-0.8.0.tar.gz (4.1 kB)\n",
      "  Preparing metadata (setup.py) ... \u001b[?25ldone\n",
      "\u001b[?25hCollecting keras-embed-sim==0.10.0\n",
      "  Downloading keras-embed-sim-0.10.0.tar.gz (3.6 kB)\n",
      "  Preparing metadata (setup.py) ... \u001b[?25ldone\n",
      "\u001b[?25hCollecting keras-self-attention==0.51.0\n",
      "  Downloading keras-self-attention-0.51.0.tar.gz (11 kB)\n",
      "  Preparing metadata (setup.py) ... \u001b[?25ldone\n",
      "\u001b[?25hRequirement already satisfied: pyparsing>=2.2.1 in /usr/local/lib/python3.9/dist-packages (from matplotlib>=3.0.0->ktrain) (3.0.9)\n",
      "Requirement already satisfied: pillow>=6.2.0 in /usr/local/lib/python3.9/dist-packages (from matplotlib>=3.0.0->ktrain) (9.2.0)\n",
      "Requirement already satisfied: python-dateutil>=2.7 in /usr/local/lib/python3.9/dist-packages (from matplotlib>=3.0.0->ktrain) (2.8.2)\n",
      "Requirement already satisfied: contourpy>=1.0.1 in /usr/local/lib/python3.9/dist-packages (from matplotlib>=3.0.0->ktrain) (1.0.7)\n",
      "Requirement already satisfied: kiwisolver>=1.0.1 in /usr/local/lib/python3.9/dist-packages (from matplotlib>=3.0.0->ktrain) (1.4.4)\n",
      "Requirement already satisfied: cycler>=0.10 in /usr/local/lib/python3.9/dist-packages (from matplotlib>=3.0.0->ktrain) (0.11.0)\n",
      "Requirement already satisfied: fonttools>=4.22.0 in /usr/local/lib/python3.9/dist-packages (from matplotlib>=3.0.0->ktrain) (4.38.0)\n",
      "Requirement already satisfied: pytz>=2020.1 in /usr/local/lib/python3.9/dist-packages (from pandas>=1.0.1->ktrain) (2022.7.1)\n",
      "Requirement already satisfied: regex>2016 in /usr/local/lib/python3.9/dist-packages (from syntok>1.3.3->ktrain) (2022.10.31)\n",
      "Requirement already satisfied: filelock in /usr/local/lib/python3.9/dist-packages (from transformers>=4.17.0->ktrain) (3.9.0)\n",
      "Requirement already satisfied: huggingface-hub<1.0,>=0.1.0 in /usr/local/lib/python3.9/dist-packages (from transformers>=4.17.0->ktrain) (0.12.0)\n",
      "Requirement already satisfied: pyyaml>=5.1 in /usr/local/lib/python3.9/dist-packages (from transformers>=4.17.0->ktrain) (5.4.1)\n",
      "Requirement already satisfied: tqdm>=4.27 in /usr/local/lib/python3.9/dist-packages (from transformers>=4.17.0->ktrain) (4.64.1)\n",
      "Requirement already satisfied: tokenizers!=0.11.3,<0.13,>=0.11.1 in /usr/local/lib/python3.9/dist-packages (from transformers>=4.17.0->ktrain) (0.12.1)\n",
      "Requirement already satisfied: six in /usr/lib/python3/dist-packages (from langdetect->ktrain) (1.14.0)\n",
      "Requirement already satisfied: urllib3<1.27,>=1.21.1 in /usr/local/lib/python3.9/dist-packages (from requests->ktrain) (1.26.14)\n",
      "Requirement already satisfied: charset-normalizer<4,>=2 in /usr/local/lib/python3.9/dist-packages (from requests->ktrain) (2.1.1)\n",
      "Requirement already satisfied: certifi>=2017.4.17 in /usr/lib/python3/dist-packages (from requests->ktrain) (2019.11.28)\n",
      "Requirement already satisfied: idna<4,>=2.5 in /usr/lib/python3/dist-packages (from requests->ktrain) (2.8)\n",
      "Requirement already satisfied: scipy>=1.3.2 in /usr/local/lib/python3.9/dist-packages (from scikit-learn->ktrain) (1.9.2)\n",
      "Requirement already satisfied: threadpoolctl>=2.0.0 in /usr/local/lib/python3.9/dist-packages (from scikit-learn->ktrain) (3.1.0)\n",
      "Requirement already satisfied: setuptools in /usr/local/lib/python3.9/dist-packages (from tika->ktrain) (66.1.1)\n",
      "Requirement already satisfied: typing-extensions>=3.7.4.3 in /usr/local/lib/python3.9/dist-packages (from huggingface-hub<1.0,>=0.1.0->transformers>=4.17.0->ktrain) (4.4.0)\n",
      "Building wheels for collected packages: ktrain, keras_bert, keras-transformer, keras-embed-sim, keras-layer-normalization, keras-multi-head, keras-pos-embd, keras-position-wise-feed-forward, keras-self-attention, jieba, langdetect, tika\n",
      "  Building wheel for ktrain (setup.py) ... \u001b[?25ldone\n",
      "\u001b[?25h  Created wheel for ktrain: filename=ktrain-0.37.6-py3-none-any.whl size=25321128 sha256=9ad3341ce41927d1015da5f214befd56da17d9b7f816d00ee7c894dffe9f61db\n",
      "  Stored in directory: /root/.cache/pip/wheels/8f/75/19/47a714b599a6d3dba3bcce962beeef05916776688ee4a6ff58\n",
      "  Building wheel for keras_bert (setup.py) ... \u001b[?25ldone\n",
      "\u001b[?25h  Created wheel for keras_bert: filename=keras_bert-0.89.0-py3-none-any.whl size=33502 sha256=7b011c37afe92dda80877d7a895e90a9f18b49ce83e656073a522f7587d1a2f7\n",
      "  Stored in directory: /root/.cache/pip/wheels/af/67/90/e2a49e04d02a4a48fd8ccf34e107e31eabd6748f21c7775be1\n",
      "  Building wheel for keras-transformer (setup.py) ... \u001b[?25ldone\n",
      "\u001b[?25h  Created wheel for keras-transformer: filename=keras_transformer-0.40.0-py3-none-any.whl size=12288 sha256=ab252bb15cd3d606175e1221f551a347ff91b5c3ca95acce6c6108c05fbceaa5\n",
      "  Stored in directory: /root/.cache/pip/wheels/57/ec/f7/b0052c2321f4de07453378158ec6480c007a46408f58eb621d\n",
      "  Building wheel for keras-embed-sim (setup.py) ... \u001b[?25ldone\n",
      "\u001b[?25h  Created wheel for keras-embed-sim: filename=keras_embed_sim-0.10.0-py3-none-any.whl size=3944 sha256=8b646e945fa2f87cdaa3391d2832b1ce5834bfe351f8f18785747b4ec392b891\n",
      "  Stored in directory: /root/.cache/pip/wheels/b9/a6/dd/d235c65c76963d22f4b0a43e4fbfefbadcfa3d4eac58009ed3\n",
      "  Building wheel for keras-layer-normalization (setup.py) ... \u001b[?25ldone\n",
      "\u001b[?25h  Created wheel for keras-layer-normalization: filename=keras_layer_normalization-0.16.0-py3-none-any.whl size=4654 sha256=ce3cb9861865ad521d9aed54f6344094ff9440955ba85f69c0439db30547d9d9\n",
      "  Stored in directory: /root/.cache/pip/wheels/56/71/02/3f0742239299c09f365edefb7bb8152675eb430e8f11be709c\n",
      "  Building wheel for keras-multi-head (setup.py) ... \u001b[?25ldone\n",
      "\u001b[?25h  Created wheel for keras-multi-head: filename=keras_multi_head-0.29.0-py3-none-any.whl size=14979 sha256=24dba48e41de7cf130e654ebe86f34be4012cb2136170f14762ccee586483687\n",
      "  Stored in directory: /root/.cache/pip/wheels/02/4a/54/53800fb1cdb29f4db6c0dd0270aa334cde1364acf6755bd277\n",
      "  Building wheel for keras-pos-embd (setup.py) ... \u001b[?25ldone\n",
      "\u001b[?25h  Created wheel for keras-pos-embd: filename=keras_pos_embd-0.13.0-py3-none-any.whl size=6947 sha256=4a28a355b44daf0b8c754775cf2b268fcdb345567f2b262fde203ee4e70c6dcc\n",
      "  Stored in directory: /root/.cache/pip/wheels/78/0d/1b/1e488d09f394c1d6f51f83715911760034f74a5e47cd0e8de4\n",
      "  Building wheel for keras-position-wise-feed-forward (setup.py) ... \u001b[?25ldone\n",
      "\u001b[?25h  Created wheel for keras-position-wise-feed-forward: filename=keras_position_wise_feed_forward-0.8.0-py3-none-any.whl size=4970 sha256=559918f204402e914a0953862178b104187559d17dc58100ac9aa327fee92e93\n",
      "  Stored in directory: /root/.cache/pip/wheels/96/a4/fe/17b42034ed0b929adb8e473354b5561f84b6a0a0cd56856485\n",
      "  Building wheel for keras-self-attention (setup.py) ... \u001b[?25ldone\n",
      "\u001b[?25h  Created wheel for keras-self-attention: filename=keras_self_attention-0.51.0-py3-none-any.whl size=18895 sha256=d3274d491a4c62fa70b158ce3bf8451a522853dfe82e6a50e3044c061f4929bc\n",
      "  Stored in directory: /root/.cache/pip/wheels/f3/b2/ee/78b08801ec3c0eae5e0f05dae43428af27ee887bc5ba7a4ad1\n",
      "  Building wheel for jieba (setup.py) ... \u001b[?25ldone\n",
      "\u001b[?25h  Created wheel for jieba: filename=jieba-0.42.1-py3-none-any.whl size=19314459 sha256=d4a2699370aad04f6f7ee1e0fffb20b342e2a0357e2492fb6cb865b592c15aed\n",
      "  Stored in directory: /root/.cache/pip/wheels/eb/93/ea/6588214b848a0b4356552634d02bd986ac1d1a7982d192e926\n",
      "  Building wheel for langdetect (setup.py) ... \u001b[?25ldone\n",
      "\u001b[?25h  Created wheel for langdetect: filename=langdetect-1.0.9-py3-none-any.whl size=993225 sha256=7bee70cd51fe6a7a450674dcc7c04db94a3680b04895b8aa787474c6244410ee\n",
      "  Stored in directory: /root/.cache/pip/wheels/6a/67/f8/9cf1a8ff87e0b37f738769df49cc142a655489a6d27b68089f\n",
      "  Building wheel for tika (setup.py) ... \u001b[?25ldone\n",
      "\u001b[?25h  Created wheel for tika: filename=tika-2.6.0-py3-none-any.whl size=32625 sha256=529a88c7e08882f960ea93b9f9937b7f235425ffdee849746da6509ae447d776\n",
      "  Stored in directory: /root/.cache/pip/wheels/cd/43/57/d97ea4a31ca2841de5dcc4d20d3e09ce719c7cdae754f1a7e2\n",
      "Successfully built ktrain keras_bert keras-transformer keras-embed-sim keras-layer-normalization keras-multi-head keras-pos-embd keras-position-wise-feed-forward keras-self-attention jieba langdetect tika\n",
      "Installing collected packages: whoosh, jieba, cchardet, syntok, langdetect, keras-self-attention, keras-position-wise-feed-forward, keras-pos-embd, keras-layer-normalization, keras-embed-sim, fastprogress, tika, keras-multi-head, keras-transformer, keras_bert, ktrain\n",
      "Successfully installed cchardet-2.1.7 fastprogress-1.0.3 jieba-0.42.1 keras-embed-sim-0.10.0 keras-layer-normalization-0.16.0 keras-multi-head-0.29.0 keras-pos-embd-0.13.0 keras-position-wise-feed-forward-0.8.0 keras-self-attention-0.51.0 keras-transformer-0.40.0 keras_bert-0.89.0 ktrain-0.37.6 langdetect-1.0.9 syntok-1.4.4 tika-2.6.0 whoosh-2.7.4\n",
      "\u001b[33mWARNING: Running pip as the 'root' user can result in broken permissions and conflicting behaviour with the system package manager. It is recommended to use a virtual environment instead: https://pip.pypa.io/warnings/venv\u001b[0m\u001b[33m\n",
      "\u001b[0mRequirement already satisfied: keras_bert in /usr/local/lib/python3.9/dist-packages (0.89.0)\n",
      "Requirement already satisfied: keras-transformer==0.40.0 in /usr/local/lib/python3.9/dist-packages (from keras_bert) (0.40.0)\n",
      "Requirement already satisfied: numpy in /usr/local/lib/python3.9/dist-packages (from keras_bert) (1.23.4)\n",
      "Requirement already satisfied: keras-multi-head==0.29.0 in /usr/local/lib/python3.9/dist-packages (from keras-transformer==0.40.0->keras_bert) (0.29.0)\n",
      "Requirement already satisfied: keras-pos-embd==0.13.0 in /usr/local/lib/python3.9/dist-packages (from keras-transformer==0.40.0->keras_bert) (0.13.0)\n",
      "Requirement already satisfied: keras-layer-normalization==0.16.0 in /usr/local/lib/python3.9/dist-packages (from keras-transformer==0.40.0->keras_bert) (0.16.0)\n",
      "Requirement already satisfied: keras-embed-sim==0.10.0 in /usr/local/lib/python3.9/dist-packages (from keras-transformer==0.40.0->keras_bert) (0.10.0)\n",
      "Requirement already satisfied: keras-position-wise-feed-forward==0.8.0 in /usr/local/lib/python3.9/dist-packages (from keras-transformer==0.40.0->keras_bert) (0.8.0)\n",
      "Requirement already satisfied: keras-self-attention==0.51.0 in /usr/local/lib/python3.9/dist-packages (from keras-multi-head==0.29.0->keras-transformer==0.40.0->keras_bert) (0.51.0)\n",
      "\u001b[33mWARNING: Running pip as the 'root' user can result in broken permissions and conflicting behaviour with the system package manager. It is recommended to use a virtual environment instead: https://pip.pypa.io/warnings/venv\u001b[0m\u001b[33m\n",
      "\u001b[0m"
     ]
    }
   ],
   "source": [
    "!pip3 install ktrain\n",
    "!pip install keras_bert"
   ]
  },
  {
   "cell_type": "code",
   "execution_count": 23,
   "id": "6cf5368d-b51f-4f36-94e3-884ff9115410",
   "metadata": {
    "execution": {
     "iopub.execute_input": "2023-08-15T22:56:11.617235Z",
     "iopub.status.busy": "2023-08-15T22:56:11.616725Z",
     "iopub.status.idle": "2023-08-15T22:56:14.004916Z",
     "shell.execute_reply": "2023-08-15T22:56:14.003980Z",
     "shell.execute_reply.started": "2023-08-15T22:56:11.617214Z"
    }
   },
   "outputs": [],
   "source": [
    "# Tensorflow\n",
    "import tensorflow as tf\n",
    "\n",
    "# ktrain\n",
    "import ktrain\n",
    "from ktrain import text\n",
    "\n",
    "# sklearn\n",
    "from sklearn.model_selection import train_test_split"
   ]
  },
  {
   "cell_type": "code",
   "execution_count": 24,
   "id": "ed79235a-3821-477b-9946-595c3cbe6ebd",
   "metadata": {
    "execution": {
     "iopub.execute_input": "2023-08-15T22:56:14.006894Z",
     "iopub.status.busy": "2023-08-15T22:56:14.006113Z",
     "iopub.status.idle": "2023-08-15T22:56:14.028329Z",
     "shell.execute_reply": "2023-08-15T22:56:14.027703Z",
     "shell.execute_reply.started": "2023-08-15T22:56:14.006870Z"
    }
   },
   "outputs": [],
   "source": [
    "X = train_df['comment_text']\n",
    "y = train_df[['toxic', 'severe_toxic', 'obscene', 'threat', 'insult', 'identity_hate']]\n",
    "\n",
    "X_train, X_test, y_train, y_test = train_test_split(X, y , test_size=0.2, random_state=42)"
   ]
  },
  {
   "cell_type": "code",
   "execution_count": 25,
   "id": "fb3a2cec-7aeb-4031-841f-7c4467e9707e",
   "metadata": {
    "execution": {
     "iopub.execute_input": "2023-08-15T22:56:14.029915Z",
     "iopub.status.busy": "2023-08-15T22:56:14.029733Z",
     "iopub.status.idle": "2023-08-15T22:56:14.033324Z",
     "shell.execute_reply": "2023-08-15T22:56:14.032784Z",
     "shell.execute_reply.started": "2023-08-15T22:56:14.029898Z"
    }
   },
   "outputs": [],
   "source": [
    "# Common Parameters\n",
    "max_len = 330\n",
    "batch_size = 16\n",
    "learning_rate = 2e-5\n",
    "epochs = 10"
   ]
  },
  {
   "cell_type": "markdown",
   "id": "9e9885d9-e9b5-4b8c-bba2-448cfd08377f",
   "metadata": {},
   "source": [
    "## BERT"
   ]
  },
  {
   "cell_type": "code",
   "execution_count": 23,
   "id": "b667cda2-13fc-4027-baae-7323fdc88d95",
   "metadata": {
    "execution": {
     "iopub.execute_input": "2023-08-15T20:23:17.847915Z",
     "iopub.status.busy": "2023-08-15T20:23:17.847093Z",
     "iopub.status.idle": "2023-08-15T22:44:25.843293Z",
     "shell.execute_reply": "2023-08-15T22:44:25.842773Z",
     "shell.execute_reply.started": "2023-08-15T20:43:35.527097Z"
    }
   },
   "outputs": [
    {
     "name": "stdout",
     "output_type": "stream",
     "text": [
      "preprocessing train...\n",
      "language: en\n",
      "train sequence lengths:\n",
      "\tmean : 60\n",
      "\t95percentile : 207\n",
      "\t99percentile : 578\n"
     ]
    },
    {
     "data": {
      "text/html": [
       "\n",
       "<style>\n",
       "    /* Turns off some styling */\n",
       "    progress {\n",
       "        /* gets rid of default border in Firefox and Opera. */\n",
       "        border: none;\n",
       "        /* Needs to be in here for Safari polyfill so background images work as expected. */\n",
       "        background-size: auto;\n",
       "    }\n",
       "    progress:not([value]), progress:not([value])::-webkit-progress-bar {\n",
       "        background: repeating-linear-gradient(45deg, #7e7e7e, #7e7e7e 10px, #5c5c5c 10px, #5c5c5c 20px);\n",
       "    }\n",
       "    .progress-bar-interrupted, .progress-bar-interrupted::-webkit-progress-bar {\n",
       "        background: #F44336;\n",
       "    }\n",
       "</style>\n"
      ],
      "text/plain": [
       "<IPython.core.display.HTML object>"
      ]
     },
     "metadata": {},
     "output_type": "display_data"
    },
    {
     "data": {
      "text/html": [],
      "text/plain": [
       "<IPython.core.display.HTML object>"
      ]
     },
     "metadata": {},
     "output_type": "display_data"
    },
    {
     "name": "stdout",
     "output_type": "stream",
     "text": [
      "Is Multi-Label? True\n",
      "preprocessing train...\n",
      "language: en\n",
      "train sequence lengths:\n",
      "\tmean : 59\n",
      "\t95percentile : 204\n",
      "\t99percentile : 549\n"
     ]
    },
    {
     "data": {
      "text/html": [
       "\n",
       "<style>\n",
       "    /* Turns off some styling */\n",
       "    progress {\n",
       "        /* gets rid of default border in Firefox and Opera. */\n",
       "        border: none;\n",
       "        /* Needs to be in here for Safari polyfill so background images work as expected. */\n",
       "        background-size: auto;\n",
       "    }\n",
       "    progress:not([value]), progress:not([value])::-webkit-progress-bar {\n",
       "        background: repeating-linear-gradient(45deg, #7e7e7e, #7e7e7e 10px, #5c5c5c 10px, #5c5c5c 20px);\n",
       "    }\n",
       "    .progress-bar-interrupted, .progress-bar-interrupted::-webkit-progress-bar {\n",
       "        background: #F44336;\n",
       "    }\n",
       "</style>\n"
      ],
      "text/plain": [
       "<IPython.core.display.HTML object>"
      ]
     },
     "metadata": {},
     "output_type": "display_data"
    },
    {
     "data": {
      "text/html": [],
      "text/plain": [
       "<IPython.core.display.HTML object>"
      ]
     },
     "metadata": {},
     "output_type": "display_data"
    },
    {
     "name": "stdout",
     "output_type": "stream",
     "text": [
      "Is Multi-Label? True\n",
      "\n",
      "\n",
      "begin training using onecycle policy with max lr of 2e-05...\n",
      "Epoch 1/10\n",
      "2082/2082 [==============================] - 734s 346ms/step - loss: 0.2671 - binary_accuracy: 0.8948 - val_loss: 0.1783 - val_binary_accuracy: 0.9254\n",
      "Epoch 2/10\n",
      "2082/2082 [==============================] - 722s 345ms/step - loss: 0.1611 - binary_accuracy: 0.9316 - val_loss: 0.1558 - val_binary_accuracy: 0.9372\n",
      "Epoch 3/10\n",
      "2082/2082 [==============================] - 722s 345ms/step - loss: 0.1375 - binary_accuracy: 0.9401 - val_loss: 0.1515 - val_binary_accuracy: 0.9355\n",
      "Epoch 4/10\n",
      "2082/2082 [==============================] - 722s 345ms/step - loss: 0.1201 - binary_accuracy: 0.9482 - val_loss: 0.1529 - val_binary_accuracy: 0.9362\n",
      "Epoch 5/10\n",
      "2082/2082 [==============================] - 722s 345ms/step - loss: 0.1025 - binary_accuracy: 0.9564 - val_loss: 0.1713 - val_binary_accuracy: 0.9319\n",
      "Epoch 6/10\n",
      "2082/2082 [==============================] - 722s 345ms/step - loss: 0.0815 - binary_accuracy: 0.9660 - val_loss: 0.1851 - val_binary_accuracy: 0.9336\n",
      "Epoch 7/10\n",
      "2082/2082 [==============================] - 722s 345ms/step - loss: 0.0566 - binary_accuracy: 0.9775 - val_loss: 0.2101 - val_binary_accuracy: 0.9312\n",
      "Epoch 8/10\n",
      "2082/2082 [==============================] - 722s 345ms/step - loss: 0.0378 - binary_accuracy: 0.9860 - val_loss: 0.2316 - val_binary_accuracy: 0.9314\n",
      "Epoch 9/10\n",
      "2082/2082 [==============================] - 722s 345ms/step - loss: 0.0248 - binary_accuracy: 0.9915 - val_loss: 0.2516 - val_binary_accuracy: 0.9306\n",
      "Epoch 10/10\n",
      "2082/2082 [==============================] - 721s 345ms/step - loss: 0.0169 - binary_accuracy: 0.9948 - val_loss: 0.2597 - val_binary_accuracy: 0.9315\n"
     ]
    },
    {
     "data": {
      "text/plain": [
       "<keras.callbacks.History at 0x7f9a472f4550>"
      ]
     },
     "execution_count": 23,
     "metadata": {},
     "output_type": "execute_result"
    }
   ],
   "source": [
    "model_ = 'bert-base-uncased'\n",
    "class_names = ['toxic', 'severe_toxic', 'obscene', 'threat', 'insult', 'identity_hate']\n",
    "t_mod = text.Transformer(model_, maxlen=max_len, classes = [0,1,2,3,4,5])\n",
    "\n",
    "'''Converting split data to list [so it can processed]'''\n",
    "#train\n",
    "X_tr = np.array(X_train)\n",
    "y_tr =  np.array(y_train)\n",
    "\n",
    "#test\n",
    "X_ts = np.array(X_test)\n",
    "y_ts =  np.array(y_test)\n",
    "\n",
    "\n",
    "# Pre-processing training & test data\n",
    "train = t_mod.preprocess_train(X_tr,y_tr)\n",
    "test = t_mod.preprocess_train(X_ts,y_ts)\n",
    "\n",
    "# Model Classifier\n",
    "model = t_mod.get_classifier()\n",
    "\n",
    "learner = ktrain.get_learner(model, train_data=train, val_data=test, batch_size=batch_size)\n",
    "# Train Model\n",
    "learner.fit_onecycle(learning_rate, epochs)"
   ]
  },
  {
   "cell_type": "code",
   "execution_count": 24,
   "id": "22a15689-4e87-4b4b-b91e-418a9f8a30ac",
   "metadata": {
    "execution": {
     "iopub.execute_input": "2023-08-15T22:44:25.844469Z",
     "iopub.status.busy": "2023-08-15T22:44:25.844289Z",
     "iopub.status.idle": "2023-08-15T22:45:20.155255Z",
     "shell.execute_reply": "2023-08-15T22:45:20.154785Z",
     "shell.execute_reply.started": "2023-08-15T22:44:25.844454Z"
    }
   },
   "outputs": [
    {
     "name": "stdout",
     "output_type": "stream",
     "text": [
      "196/196 [==============================] - 54s 267ms/step\n",
      "              precision    recall  f1-score   support\n",
      "\n",
      "           0       0.89      0.93      0.91      3101\n",
      "           1       0.41      0.42      0.41       326\n",
      "           2       0.84      0.85      0.84      1725\n",
      "           3       0.57      0.47      0.51       105\n",
      "           4       0.74      0.79      0.76      1617\n",
      "           5       0.65      0.57      0.61       299\n",
      "\n",
      "   micro avg       0.81      0.83      0.82      7173\n",
      "   macro avg       0.69      0.67      0.68      7173\n",
      "weighted avg       0.81      0.83      0.82      7173\n",
      " samples avg       0.42      0.43      0.41      7173\n",
      "\n"
     ]
    }
   ],
   "source": [
    "x = learner.validate(class_names=t_mod.get_classes())\n"
   ]
  },
  {
   "cell_type": "code",
   "execution_count": 29,
   "id": "b89d93a3-f09c-4c58-b35c-3474c4609b52",
   "metadata": {
    "execution": {
     "iopub.execute_input": "2023-08-15T22:50:19.670685Z",
     "iopub.status.busy": "2023-08-15T22:50:19.670063Z",
     "iopub.status.idle": "2023-08-15T22:52:44.606432Z",
     "shell.execute_reply": "2023-08-15T22:52:44.605884Z",
     "shell.execute_reply.started": "2023-08-15T22:50:19.670662Z"
    }
   },
   "outputs": [
    {
     "name": "stdout",
     "output_type": "stream",
     "text": [
      "preprocessing test...\n",
      "language: en\n",
      "test sequence lengths:\n",
      "\tmean : 59\n",
      "\t95percentile : 204\n",
      "\t99percentile : 549\n"
     ]
    },
    {
     "data": {
      "text/html": [
       "\n",
       "<style>\n",
       "    /* Turns off some styling */\n",
       "    progress {\n",
       "        /* gets rid of default border in Firefox and Opera. */\n",
       "        border: none;\n",
       "        /* Needs to be in here for Safari polyfill so background images work as expected. */\n",
       "        background-size: auto;\n",
       "    }\n",
       "    progress:not([value]), progress:not([value])::-webkit-progress-bar {\n",
       "        background: repeating-linear-gradient(45deg, #7e7e7e, #7e7e7e 10px, #5c5c5c 10px, #5c5c5c 20px);\n",
       "    }\n",
       "    .progress-bar-interrupted, .progress-bar-interrupted::-webkit-progress-bar {\n",
       "        background: #F44336;\n",
       "    }\n",
       "</style>\n"
      ],
      "text/plain": [
       "<IPython.core.display.HTML object>"
      ]
     },
     "metadata": {},
     "output_type": "display_data"
    },
    {
     "data": {
      "text/html": [],
      "text/plain": [
       "<IPython.core.display.HTML object>"
      ]
     },
     "metadata": {},
     "output_type": "display_data"
    },
    {
     "name": "stdout",
     "output_type": "stream",
     "text": [
      "6245/6245 [==============================] - 141s 23ms/step\n",
      "\n",
      "Label-wise Accuracies:\n",
      "toxic: 0.9102\n",
      "severe_toxic: 0.9380\n",
      "obscene: 0.9137\n",
      "threat: 0.9851\n",
      "insult: 0.8743\n",
      "identity_hate: 0.9648\n",
      "\n",
      "Overall Accuracy: 0.9310114758473444\n"
     ]
    }
   ],
   "source": [
    "from sklearn.metrics import accuracy_score\n",
    "\n",
    "# Getting predictions on the test data\n",
    "test_dataset = t_mod.preprocess_test(X_ts, y_ts)\n",
    "y_pred = learner.predict(test_dataset)\n",
    "\n",
    "# Calculate and print accuracy for each label\n",
    "label_accuracies = []\n",
    "for idx, class_name in enumerate(class_names):\n",
    "    y_true = y_ts[:, idx]\n",
    "    y_pred_label = y_pred[:, idx]\n",
    "    accuracy = accuracy_score(y_true, y_pred_label.round())\n",
    "    label_accuracies.append((class_name, accuracy))\n",
    "\n",
    "# Calculate and print the overall accuracy\n",
    "overall_accuracy = sum(acc for _, acc in label_accuracies) / len(label_accuracies)\n",
    "print(\"\\nLabel-wise Accuracies:\")\n",
    "for class_name, accuracy in label_accuracies:\n",
    "    print(f\"{class_name}: {accuracy:.4f}\")\n",
    "\n",
    "print(\"\\nOverall Accuracy:\", overall_accuracy)\n"
   ]
  },
  {
   "cell_type": "markdown",
   "id": "13e68969-2862-4ec5-b710-5bf94b6af8eb",
   "metadata": {},
   "source": [
    "## RoBERTa"
   ]
  },
  {
   "cell_type": "code",
   "execution_count": 26,
   "id": "31404674-441d-4b29-8c6c-bdc86f664424",
   "metadata": {
    "execution": {
     "iopub.execute_input": "2023-08-15T22:56:14.034195Z",
     "iopub.status.busy": "2023-08-15T22:56:14.034038Z",
     "iopub.status.idle": "2023-08-16T01:01:31.936544Z",
     "shell.execute_reply": "2023-08-16T01:01:31.935956Z",
     "shell.execute_reply.started": "2023-08-15T22:56:14.034181Z"
    }
   },
   "outputs": [
    {
     "data": {
      "application/vnd.jupyter.widget-view+json": {
       "model_id": "4372d568882f4b9cad53814887f25f18",
       "version_major": 2,
       "version_minor": 0
      },
      "text/plain": [
       "Downloading config.json:   0%|          | 0.00/481 [00:00<?, ?B/s]"
      ]
     },
     "metadata": {},
     "output_type": "display_data"
    },
    {
     "data": {
      "application/vnd.jupyter.widget-view+json": {
       "model_id": "ed31342cf8ec415f85e9168a525f44df",
       "version_major": 2,
       "version_minor": 0
      },
      "text/plain": [
       "Downloading tf_model.h5:   0%|          | 0.00/627M [00:00<?, ?B/s]"
      ]
     },
     "metadata": {},
     "output_type": "display_data"
    },
    {
     "name": "stdout",
     "output_type": "stream",
     "text": [
      "preprocessing train...\n",
      "language: en\n",
      "train sequence lengths:\n",
      "\tmean : 59\n",
      "\t95percentile : 205\n",
      "\t99percentile : 597\n"
     ]
    },
    {
     "data": {
      "application/vnd.jupyter.widget-view+json": {
       "model_id": "2fb2ae334304456fb34887c957556757",
       "version_major": 2,
       "version_minor": 0
      },
      "text/plain": [
       "Downloading vocab.json:   0%|          | 0.00/878k [00:00<?, ?B/s]"
      ]
     },
     "metadata": {},
     "output_type": "display_data"
    },
    {
     "data": {
      "application/vnd.jupyter.widget-view+json": {
       "model_id": "62e49f3de1a546819082e8b966242d3c",
       "version_major": 2,
       "version_minor": 0
      },
      "text/plain": [
       "Downloading merges.txt:   0%|          | 0.00/446k [00:00<?, ?B/s]"
      ]
     },
     "metadata": {},
     "output_type": "display_data"
    },
    {
     "data": {
      "application/vnd.jupyter.widget-view+json": {
       "model_id": "1af7495be584480b8b83064577f29699",
       "version_major": 2,
       "version_minor": 0
      },
      "text/plain": [
       "Downloading tokenizer.json:   0%|          | 0.00/1.29M [00:00<?, ?B/s]"
      ]
     },
     "metadata": {},
     "output_type": "display_data"
    },
    {
     "data": {
      "text/html": [
       "\n",
       "<style>\n",
       "    /* Turns off some styling */\n",
       "    progress {\n",
       "        /* gets rid of default border in Firefox and Opera. */\n",
       "        border: none;\n",
       "        /* Needs to be in here for Safari polyfill so background images work as expected. */\n",
       "        background-size: auto;\n",
       "    }\n",
       "    progress:not([value]), progress:not([value])::-webkit-progress-bar {\n",
       "        background: repeating-linear-gradient(45deg, #7e7e7e, #7e7e7e 10px, #5c5c5c 10px, #5c5c5c 20px);\n",
       "    }\n",
       "    .progress-bar-interrupted, .progress-bar-interrupted::-webkit-progress-bar {\n",
       "        background: #F44336;\n",
       "    }\n",
       "</style>\n"
      ],
      "text/plain": [
       "<IPython.core.display.HTML object>"
      ]
     },
     "metadata": {},
     "output_type": "display_data"
    },
    {
     "data": {
      "text/html": [],
      "text/plain": [
       "<IPython.core.display.HTML object>"
      ]
     },
     "metadata": {},
     "output_type": "display_data"
    },
    {
     "name": "stdout",
     "output_type": "stream",
     "text": [
      "Is Multi-Label? True\n",
      "preprocessing train...\n",
      "language: en\n",
      "train sequence lengths:\n",
      "\tmean : 57\n",
      "\t95percentile : 193\n",
      "\t99percentile : 587\n"
     ]
    },
    {
     "data": {
      "text/html": [
       "\n",
       "<style>\n",
       "    /* Turns off some styling */\n",
       "    progress {\n",
       "        /* gets rid of default border in Firefox and Opera. */\n",
       "        border: none;\n",
       "        /* Needs to be in here for Safari polyfill so background images work as expected. */\n",
       "        background-size: auto;\n",
       "    }\n",
       "    progress:not([value]), progress:not([value])::-webkit-progress-bar {\n",
       "        background: repeating-linear-gradient(45deg, #7e7e7e, #7e7e7e 10px, #5c5c5c 10px, #5c5c5c 20px);\n",
       "    }\n",
       "    .progress-bar-interrupted, .progress-bar-interrupted::-webkit-progress-bar {\n",
       "        background: #F44336;\n",
       "    }\n",
       "</style>\n"
      ],
      "text/plain": [
       "<IPython.core.display.HTML object>"
      ]
     },
     "metadata": {},
     "output_type": "display_data"
    },
    {
     "data": {
      "text/html": [],
      "text/plain": [
       "<IPython.core.display.HTML object>"
      ]
     },
     "metadata": {},
     "output_type": "display_data"
    },
    {
     "name": "stdout",
     "output_type": "stream",
     "text": [
      "Is Multi-Label? True\n",
      "\n",
      "\n",
      "begin training using onecycle policy with max lr of 2e-05...\n",
      "Epoch 1/10\n",
      "2082/2082 [==============================] - 786s 369ms/step - loss: 0.2388 - binary_accuracy: 0.9082 - val_loss: 0.1877 - val_binary_accuracy: 0.9305\n",
      "Epoch 2/10\n",
      "2082/2082 [==============================] - 741s 355ms/step - loss: 0.1598 - binary_accuracy: 0.9328 - val_loss: 0.1568 - val_binary_accuracy: 0.9309\n",
      "Epoch 3/10\n",
      "2082/2082 [==============================] - 742s 355ms/step - loss: 0.1400 - binary_accuracy: 0.9388 - val_loss: 0.1483 - val_binary_accuracy: 0.9368\n",
      "Epoch 4/10\n",
      "2082/2082 [==============================] - 770s 368ms/step - loss: 0.1278 - binary_accuracy: 0.9435 - val_loss: 0.1649 - val_binary_accuracy: 0.9339\n",
      "Epoch 5/10\n",
      "2082/2082 [==============================] - 742s 355ms/step - loss: 0.1168 - binary_accuracy: 0.9494 - val_loss: 0.1722 - val_binary_accuracy: 0.9320\n",
      "Epoch 6/10\n",
      "2082/2082 [==============================] - 741s 355ms/step - loss: 0.1028 - binary_accuracy: 0.9556 - val_loss: 0.1681 - val_binary_accuracy: 0.9358\n",
      "Epoch 7/10\n",
      "2082/2082 [==============================] - 741s 355ms/step - loss: 0.0827 - binary_accuracy: 0.9655 - val_loss: 0.1816 - val_binary_accuracy: 0.9345\n",
      "Epoch 8/10\n",
      "2082/2082 [==============================] - 741s 354ms/step - loss: 0.0638 - binary_accuracy: 0.9737 - val_loss: 0.2038 - val_binary_accuracy: 0.9335\n",
      "Epoch 9/10\n",
      "2082/2082 [==============================] - 741s 354ms/step - loss: 0.0482 - binary_accuracy: 0.9813 - val_loss: 0.2165 - val_binary_accuracy: 0.9311\n",
      "Epoch 10/10\n",
      "2082/2082 [==============================] - 743s 355ms/step - loss: 0.0369 - binary_accuracy: 0.9863 - val_loss: 0.2263 - val_binary_accuracy: 0.9326\n"
     ]
    },
    {
     "data": {
      "text/plain": [
       "<keras.callbacks.History at 0x7f3ab8045970>"
      ]
     },
     "execution_count": 26,
     "metadata": {},
     "output_type": "execute_result"
    }
   ],
   "source": [
    "model_ = 'roberta-base'\n",
    "class_names = ['toxic', 'severe_toxic', 'obscene', 'threat', 'insult', 'identity_hate']\n",
    "t_mod = text.Transformer(model_, maxlen=max_len, classes = [0,1,2,3,4,5])\n",
    "'''Converting split data to list [so it can processed]'''\n",
    "#train\n",
    "X_tr = np.array(X_train)\n",
    "y_tr =  np.array(y_train)\n",
    "\n",
    "#test\n",
    "X_ts = np.array(X_test)\n",
    "y_ts =  np.array(y_test)\n",
    "\n",
    "\n",
    "# Pre-processing training & test data\n",
    "train = t_mod.preprocess_train(X_tr,y_tr)\n",
    "test = t_mod.preprocess_train(X_ts,y_ts)\n",
    "\n",
    "# Model Classifier\n",
    "model = t_mod.get_classifier()\n",
    "\n",
    "learner = ktrain.get_learner(model, train_data=train, val_data=test, batch_size=batch_size)\n",
    "# Train Model\n",
    "learner.fit_onecycle(learning_rate, epochs)"
   ]
  },
  {
   "cell_type": "code",
   "execution_count": 27,
   "id": "e8b95893-2f57-458c-8830-71082202f7d6",
   "metadata": {
    "execution": {
     "iopub.execute_input": "2023-08-16T01:01:31.939869Z",
     "iopub.status.busy": "2023-08-16T01:01:31.939637Z",
     "iopub.status.idle": "2023-08-16T01:02:27.527089Z",
     "shell.execute_reply": "2023-08-16T01:02:27.526259Z",
     "shell.execute_reply.started": "2023-08-16T01:01:31.939850Z"
    }
   },
   "outputs": [
    {
     "name": "stdout",
     "output_type": "stream",
     "text": [
      "196/196 [==============================] - 55s 272ms/step\n",
      "              precision    recall  f1-score   support\n",
      "\n",
      "           0       0.89      0.93      0.91      3101\n",
      "           1       0.48      0.48      0.48       326\n",
      "           2       0.82      0.88      0.84      1725\n",
      "           3       0.54      0.65      0.59       105\n",
      "           4       0.74      0.81      0.77      1617\n",
      "           5       0.61      0.61      0.61       299\n",
      "\n",
      "   micro avg       0.80      0.85      0.83      7173\n",
      "   macro avg       0.68      0.73      0.70      7173\n",
      "weighted avg       0.80      0.85      0.83      7173\n",
      " samples avg       0.42      0.44      0.42      7173\n",
      "\n"
     ]
    }
   ],
   "source": [
    "x = learner.validate(class_names=t_mod.get_classes())"
   ]
  },
  {
   "cell_type": "code",
   "execution_count": 28,
   "id": "a3474830-56d7-4611-8968-ae4567931d8b",
   "metadata": {
    "execution": {
     "iopub.execute_input": "2023-08-16T01:03:20.623618Z",
     "iopub.status.busy": "2023-08-16T01:03:20.623304Z",
     "iopub.status.idle": "2023-08-16T01:06:45.862990Z",
     "shell.execute_reply": "2023-08-16T01:06:45.862284Z",
     "shell.execute_reply.started": "2023-08-16T01:03:20.623595Z"
    }
   },
   "outputs": [
    {
     "name": "stdout",
     "output_type": "stream",
     "text": [
      "preprocessing test...\n",
      "language: en\n",
      "test sequence lengths:\n",
      "\tmean : 57\n",
      "\t95percentile : 193\n",
      "\t99percentile : 587\n"
     ]
    },
    {
     "data": {
      "text/html": [
       "\n",
       "<style>\n",
       "    /* Turns off some styling */\n",
       "    progress {\n",
       "        /* gets rid of default border in Firefox and Opera. */\n",
       "        border: none;\n",
       "        /* Needs to be in here for Safari polyfill so background images work as expected. */\n",
       "        background-size: auto;\n",
       "    }\n",
       "    progress:not([value]), progress:not([value])::-webkit-progress-bar {\n",
       "        background: repeating-linear-gradient(45deg, #7e7e7e, #7e7e7e 10px, #5c5c5c 10px, #5c5c5c 20px);\n",
       "    }\n",
       "    .progress-bar-interrupted, .progress-bar-interrupted::-webkit-progress-bar {\n",
       "        background: #F44336;\n",
       "    }\n",
       "</style>\n"
      ],
      "text/plain": [
       "<IPython.core.display.HTML object>"
      ]
     },
     "metadata": {},
     "output_type": "display_data"
    },
    {
     "data": {
      "text/html": [],
      "text/plain": [
       "<IPython.core.display.HTML object>"
      ]
     },
     "metadata": {},
     "output_type": "display_data"
    },
    {
     "name": "stdout",
     "output_type": "stream",
     "text": [
      "6245/6245 [==============================] - 160s 26ms/step\n",
      "\n",
      "Label-wise Accuracies:\n",
      "toxic: 0.9095\n",
      "severe_toxic: 0.9460\n",
      "obscene: 0.9114\n",
      "threat: 0.9848\n",
      "insult: 0.8761\n",
      "identity_hate: 0.9624\n",
      "\n",
      "Overall Accuracy: 0.9317053642914331\n"
     ]
    }
   ],
   "source": [
    "from sklearn.metrics import accuracy_score\n",
    "\n",
    "# Getting predictions on the test data\n",
    "test_dataset = t_mod.preprocess_test(X_ts, y_ts)\n",
    "y_pred = learner.predict(test_dataset)\n",
    "\n",
    "# Calculate and print accuracy for each label\n",
    "label_accuracies = []\n",
    "for idx, class_name in enumerate(class_names):\n",
    "    y_true = y_ts[:, idx]\n",
    "    y_pred_label = y_pred[:, idx]\n",
    "    accuracy = accuracy_score(y_true, y_pred_label.round())\n",
    "    label_accuracies.append((class_name, accuracy))\n",
    "\n",
    "# Calculate and print the overall accuracy\n",
    "overall_accuracy = sum(acc for _, acc in label_accuracies) / len(label_accuracies)\n",
    "print(\"\\nLabel-wise Accuracies:\")\n",
    "for class_name, accuracy in label_accuracies:\n",
    "    print(f\"{class_name}: {accuracy:.4f}\")\n",
    "\n",
    "print(\"\\nOverall Accuracy:\", overall_accuracy)\n"
   ]
  },
  {
   "cell_type": "code",
   "execution_count": null,
   "id": "20a2adc2-d07f-4a22-b4f4-b0a96482910a",
   "metadata": {},
   "outputs": [],
   "source": []
  }
 ],
 "metadata": {
  "kernelspec": {
   "display_name": "Python 3 (ipykernel)",
   "language": "python",
   "name": "python3"
  },
  "language_info": {
   "codemirror_mode": {
    "name": "ipython",
    "version": 3
   },
   "file_extension": ".py",
   "mimetype": "text/x-python",
   "name": "python",
   "nbconvert_exporter": "python",
   "pygments_lexer": "ipython3",
   "version": "3.9.16"
  }
 },
 "nbformat": 4,
 "nbformat_minor": 5
}
